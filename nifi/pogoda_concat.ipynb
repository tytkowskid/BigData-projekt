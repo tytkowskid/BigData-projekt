{
 "cells": [
  {
   "cell_type": "code",
   "execution_count": 1,
   "metadata": {},
   "outputs": [],
   "source": [
    "import pandas as pd\n",
    "from datetime import datetime\n",
    "import os"
   ]
  },
  {
   "cell_type": "code",
   "execution_count": 2,
   "metadata": {},
   "outputs": [],
   "source": [
    "# loading data tutaj folder z danymi o pogodzie\n",
    "directory = \"../data/pogoda/\""
   ]
  },
  {
   "cell_type": "code",
   "execution_count": 19,
   "metadata": {},
   "outputs": [],
   "source": [
    "dfs = []\n",
    "for f in os.listdir(directory):\n",
    "    df = pd.read_csv(\"../data/pogoda/\"+f, encoding='unicode_escape', header=None)\n",
    "    df.columns = [\"kod_stacji\", \"nazwa_stacji\", \"r\", \"m\", \"d\", \"tmax\", \"status_pomiaru_tmax\", \"tmin\", \"status_pomiaru_tmin\", \"tstd\", \"status_pomiaru_tstd\", \"tmng\", \"status_pomiaru_tmng\",\"smdb\",\"status_pomiaru_smdb\", \"rodzaj_opadu\", \"pksn\", \"status_pomiaru_pksn\"]\n",
    "    df = df.loc[df[\"nazwa_stacji\"] == 'WARSZAWA-FILTRY']\n",
    "    df['id'] = df.apply(lambda row: str(row.r)+str(row.m).zfill(2)+str(row.d).zfill(2), axis=1)\n",
    "    dfs.append(df)\n"
   ]
  },
  {
   "cell_type": "code",
   "execution_count": 34,
   "metadata": {},
   "outputs": [
    {
     "data": {
      "text/plain": [
       "datetime.date(2022, 12, 12)"
      ]
     },
     "execution_count": 34,
     "metadata": {},
     "output_type": "execute_result"
    }
   ],
   "source": [
    "pd.to_datetime(\"20221212\").date()"
   ]
  },
  {
   "cell_type": "code",
   "execution_count": 24,
   "metadata": {},
   "outputs": [],
   "source": [
    "final_pogoda = pd.concat(dfs)\n",
    "final_pogoda.set_index(\"id\", inplace=True)"
   ]
  },
  {
   "cell_type": "code",
   "execution_count": 25,
   "metadata": {},
   "outputs": [],
   "source": [
    "final_pogoda.to_csv(\"../data/exporty/pogoda_hist.csv\")"
   ]
  },
  {
   "cell_type": "code",
   "execution_count": null,
   "metadata": {},
   "outputs": [],
   "source": []
  }
 ],
 "metadata": {
  "kernelspec": {
   "display_name": ".inzynierkaEnv",
   "language": "python",
   "name": "python3"
  },
  "language_info": {
   "codemirror_mode": {
    "name": "ipython",
    "version": 3
   },
   "file_extension": ".py",
   "mimetype": "text/x-python",
   "name": "python",
   "nbconvert_exporter": "python",
   "pygments_lexer": "ipython3",
   "version": "3.9.1"
  }
 },
 "nbformat": 4,
 "nbformat_minor": 2
}
