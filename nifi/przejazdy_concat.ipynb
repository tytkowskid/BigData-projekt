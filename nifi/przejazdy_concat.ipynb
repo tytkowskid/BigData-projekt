{
 "cells": [
  {
   "cell_type": "code",
   "execution_count": 1,
   "metadata": {},
   "outputs": [],
   "source": [
    "import pandas as pd\n",
    "from datetime import datetime\n",
    "import os"
   ]
  },
  {
   "cell_type": "code",
   "execution_count": 5,
   "metadata": {},
   "outputs": [],
   "source": [
    "# directory = \"../dane/gtfs-drive/\" to ma byc folder gdzie masz te foldery gtfs \n",
    "directory = \"../data/gtfsy/\"\n",
    "day = '2023-06-15'"
   ]
  },
  {
   "cell_type": "code",
   "execution_count": 4,
   "metadata": {},
   "outputs": [],
   "source": [
    "dates = ['2023-05-09', '2023-05-10', '2023-05-11', '2023-05-16',\n",
    "         '2023-05-17', '2023-05-18', '2023-05-23', '2023-05-30',\n",
    "         '2023-06-01', '2023-06-06', '2023-06-07', '2023-06-13',\n",
    "         '2023-06-14', '2022-09-02', '2022-11-15', '2022-11-22']"
   ]
  },
  {
   "cell_type": "code",
   "execution_count": 41,
   "metadata": {},
   "outputs": [],
   "source": [
    "def get_df(directory, day):\n",
    "    filepath = directory + day\n",
    "    extension = \".gtfs\"\n",
    "    routes_df = pd.read_csv(filepath + extension + \"/routes.txt\")\n",
    "    stop_times_df = pd.read_csv(filepath + extension + \"/stop_times.txt\")\n",
    "    trips_df = pd.read_csv(filepath + extension + \"/trips.txt\")\n",
    "    rt_stop_times_df = pd.read_csv(filepath + '-rt.gtfs/stop_times.txt')\n",
    "    merged_df = stop_times_df.merge(trips_df, on = 'trip_id').merge(routes_df, on = 'route_id').merge(rt_stop_times_df, on=['trip_id', 'stop_id'])\n",
    "    merged_df['arrival_time_x'] = merged_df['arrival_time_x'].str.strip()\n",
    "    merged_df['arrival_time_y'] = merged_df['arrival_time_y'].str.strip()\n",
    "    \n",
    "\n",
    "    # Create the past_midnight column\n",
    "\n",
    "    merged_df['diff'] = pd.to_timedelta(merged_df['arrival_time_y'], errors='coerce') - pd.to_timedelta(merged_df['arrival_time_x'], errors='coerce')\n",
    "    merged_df['diff'] = merged_df['diff'].apply(lambda x: pd.Timedelta.total_seconds(x))\n",
    "    merged_df.reset_index(inplace=True)\n",
    "    merged_df['id'] = merged_df.apply(lambda row: str(day).replace('-','') + str(row['index']).zfill(8), axis=1)   \n",
    "    merged_df['date'] = day\n",
    "    merged_df['r'] = day[0:4]\n",
    "    merged_df['m'] = day[5:7]\n",
    "    merged_df['d'] = day[8:10]\n",
    "    merged_df = merged_df[[\"id\",\"trip_id\",\"route_short_name\", \"diff\", \"departure_time_x\", \"departure_time_y\", \"stop_id\", \"route_type\", 'date', 'r', 'm', 'd']]\n",
    "    merged_df.set_index(\"id\", inplace=True)\n",
    "\n",
    "    return merged_df"
   ]
  },
  {
   "cell_type": "code",
   "execution_count": 44,
   "metadata": {},
   "outputs": [],
   "source": [
    "for d in dates:\n",
    "    df = get_df(directory, d)\n",
    "    df.to_csv(\"../data/exporty/\"+str(d).replace('-','')+\"_przejazdy.csv\")"
   ]
  }
 ],
 "metadata": {
  "kernelspec": {
   "display_name": ".inzynierkaEnv",
   "language": "python",
   "name": "python3"
  },
  "language_info": {
   "codemirror_mode": {
    "name": "ipython",
    "version": 3
   },
   "file_extension": ".py",
   "mimetype": "text/x-python",
   "name": "python",
   "nbconvert_exporter": "python",
   "pygments_lexer": "ipython3",
   "version": "3.9.1"
  }
 },
 "nbformat": 4,
 "nbformat_minor": 2
}
